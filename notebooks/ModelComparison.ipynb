{
 "cells": [
  {
   "cell_type": "markdown",
   "id": "6b01a91b-9172-4e8f-9393-ae914685ea91",
   "metadata": {},
   "source": [
    "# 1. Feature Importance Extraction\n",
    "This step extracts and visualizes the importance of each feature used by the trained Gradient Boosting model.\n",
    "Feature importance helps to understand which clinical indicators contribute most to predicting diabetic status.\n"
   ]
  },
  {
   "cell_type": "code",
   "execution_count": 11,
   "id": "73924f63-b748-4887-b3ee-4545ed4a03fe",
   "metadata": {},
   "outputs": [
    {
     "name": "stdout",
     "output_type": "stream",
     "text": [
      "Preprocessed data saved as joblib files!\n"
     ]
    }
   ],
   "source": [
    "# -----------------------------\n",
    "# Run preprocessing to load X and y\n",
    "# -----------------------------\n",
    "%run ./Preprocessing.ipynb  \n",
    "\n",
    "import joblib\n",
    "import pandas as pd\n",
    "import matplotlib.pyplot as plt\n",
    "import seaborn as sns\n"
   ]
  },
  {
   "cell_type": "markdown",
   "id": "d2fad695-59a4-43dd-9175-73897efb2b04",
   "metadata": {},
   "source": [
    "## 2 Load Trained Gradient Boosting Model\n",
    "The trained model is loaded from the saved pipeline file (`gb_diabetes_model.joblib`). \n",
    "If it was saved as a pipeline, the classifier is accessed from the pipeline's `named_steps`.\n"
   ]
  },
  {
   "cell_type": "code",
   "execution_count": 13,
   "id": "e31017c1-2ac1-405e-a259-b418603cdebf",
   "metadata": {},
   "outputs": [],
   "source": [
    "gb_model = joblib.load(\"gb_diabetes_model.joblib\")  # replace with your correct path\n",
    "\n",
    "if hasattr(gb_model, 'named_steps'):\n",
    "    importances = gb_model.named_steps['classifier'].feature_importances_\n",
    "else:\n",
    "    importances = gb_model.feature_importances_\n"
   ]
  },
  {
   "cell_type": "markdown",
   "id": "390ae62d-beea-4739-8c2e-560f5294206d",
   "metadata": {},
   "source": [
    "## 3 Check Feature-Importance Alignment\n",
    "Ensure that the number of features in `X` matches the length of feature importances.\n",
    "If there is a mismatch, only the corresponding features are used.\n"
   ]
  },
  {
   "cell_type": "code",
   "execution_count": 14,
   "id": "43012748-b167-450c-b46f-5dc4310eb554",
   "metadata": {},
   "outputs": [
    {
     "name": "stdout",
     "output_type": "stream",
     "text": [
      "Feature importances length: 9\n",
      "Number of columns in X: 11\n",
      "Columns in X: ['Gender', 'AGE', 'Urea', 'Cr', 'HbA1c', 'Chol', 'TG', 'HDL', 'LDL', 'VLDL', 'BMI']\n"
     ]
    }
   ],
   "source": [
    "# Debug: check lengths\n",
    "print(\"Feature importances length:\", len(importances))\n",
    "print(\"Number of columns in X:\", len(X.columns))\n",
    "print(\"Columns in X:\", X.columns.tolist())\n",
    "\n",
    "# Match features if lengths mismatch\n",
    "if len(importances) != len(X.columns):\n",
    "    X_used = X.iloc[:, :len(importances)]\n",
    "else:\n",
    "    X_used = X\n"
   ]
  },
  {
   "cell_type": "markdown",
   "id": "7fd2b3c6-c87e-47af-9444-c4594574f379",
   "metadata": {},
   "source": [
    "## 4 Create Feature Importance Series\n",
    "A pandas Series is created to sort and display features based on importance scores.\n"
   ]
  },
  {
   "cell_type": "code",
   "execution_count": 16,
   "id": "cc44f989-b410-48e6-a7d3-9788ec8ad8fc",
   "metadata": {},
   "outputs": [
    {
     "name": "stdout",
     "output_type": "stream",
     "text": [
      "\n",
      "Feature Importances:\n",
      "Gender    0.548344\n",
      "AGE       0.242255\n",
      "Urea      0.080811\n",
      "Chol      0.042091\n",
      "HbA1c     0.020637\n",
      "TG        0.020057\n",
      "Cr        0.018781\n",
      "HDL       0.014696\n",
      "LDL       0.012328\n",
      "dtype: float64\n"
     ]
    }
   ],
   "source": [
    "# Create pandas Series and sort\n",
    "feat_importances = pd.Series(importances, index=X_used.columns).sort_values(ascending=False)\n",
    "\n",
    "# Display feature importances\n",
    "print(\"\\nFeature Importances:\")\n",
    "print(feat_importances)\n"
   ]
  },
  {
   "cell_type": "markdown",
   "id": "4ceb7f92-6415-4d88-82ff-b6f1e3e1557d",
   "metadata": {},
   "source": [
    "## 9.4 Plot Feature Importances\n",
    "Visualize the importance of each feature using a horizontal bar chart.\n",
    "This helps to quickly identify the most influential clinical indicators.\n"
   ]
  },
  {
   "cell_type": "code",
   "execution_count": 18,
   "id": "ff604c65-ef92-4f2c-b81b-6ca857c80ec8",
   "metadata": {},
   "outputs": [
    {
     "name": "stderr",
     "output_type": "stream",
     "text": [
      "C:\\Users\\Public\\Documents\\Wondershare\\CreatorTemp\\ipykernel_16580\\3516324627.py:3: FutureWarning: \n",
      "\n",
      "Passing `palette` without assigning `hue` is deprecated and will be removed in v0.14.0. Assign the `y` variable to `hue` and set `legend=False` for the same effect.\n",
      "\n",
      "  sns.barplot(x=feat_importances.values, y=feat_importances.index, palette=\"viridis\")\n"
     ]
    },
    {
     "data": {
      "image/png": "[encoded data removed]",
      "text/plain": [
       "<Figure size 1000x600 with 1 Axes>"
      ]
     },
     "metadata": {},
     "output_type": "display_data"
    }
   ],
   "source": [
    "# Plot feature importances\n",
    "plt.figure(figsize=(10,6))\n",
    "sns.barplot(x=feat_importances.values, y=feat_importances.index, palette=\"viridis\")\n",
    "plt.title(\"Feature Importances from Gradient Boosting\")\n",
    "plt.xlabel(\"Importance\")\n",
    "plt.ylabel(\"Feature\")\n",
    "plt.show()\n"
   ]
  },
  {
   "cell_type": "markdown",
   "id": "2f164a56-5a89-4d3b-a02f-374c4b4d4d76",
   "metadata": {},
   "source": [
    "# Comparison of Model"
   ]
  },
  {
   "cell_type": "markdown",
   "id": "42f27dae-da41-4519-8b01-abf8df6b82c7",
   "metadata": {},
   "source": [
    "| Model               | Before Tuning Accuracy | After Tuning Accuracy | Before Tuning F1\\_macro | After Tuning F1\\_macro |\n",
    "| ------------------- | ---------------------- | --------------------- | ----------------------- | ---------------------- |\n",
    "| Random Forest       | 0.9811                 | 0.9811                | 0.98                    | 0.9837                 |\n",
    "| Logistic Regression | 0.9245                 | 0.9434                | 0.89                    | 0.92                   |\n",
    "| XGBoost             | 0.9623                 | 0.9623                | 0.96                    | 0.96                   |\n",
    "| Gradient Boosting   | 0.9623                 | 0.9811                | 0.96                    | 0.9902                 |\n"
   ]
  },
  {
   "cell_type": "markdown",
   "id": "f19add83-d73e-4704-82d2-03da56323085",
   "metadata": {},
   "source": [
    "## 🔍 Detailed Analysis\n",
    "\n",
    "1. **Random Forest**  \n",
    "   - Accuracy remained constant at 0.9811 after tuning, while macro F1 improved slightly to 0.9837.  \n",
    "   - Strong baseline model, but limited improvement through hyperparameter tuning indicates it is already close to its optimal configuration.\n",
    "\n",
    "2. **Logistic Regression**  \n",
    "   - Accuracy increased from 0.9245 to 0.9434 after tuning, and macro F1 improved from 0.89 to 0.92.  \n",
    "   - Linear model struggles with complex nonlinear relationships in the dataset, so while tuning helps, it cannot outperform tree-based models.\n",
    "\n",
    "3. **XGBoost**  \n",
    "   - Accuracy and F1 remained stable at 0.9623 and 0.96 respectively.  \n",
    "   - Performs well, but no significant improvement after tuning. Slight underperformance compared to Random Forest and Gradient Boosting.\n",
    "\n",
    "4. **Gradient Boosting**  \n",
    "   - Accuracy improved significantly from 0.9623 to 0.9811 after tuning, and macro F1 increased to 0.9902.  \n",
    "   - Best trade-off between **overall accuracy** and **class-wise performance**.  \n",
    "   - Capable of capturing complex nonlinear patterns in the dataset, making it ideal for predicting diabetic classes.  \n",
    "\n",
    "---\n",
    "\n",
    "## ✅ Conclusion\n",
    "\n",
    "- **Gradient Boosting** is selected as the **final model** due to its superior **after-tuning accuracy** and **macro F1-score**, ensuring both **overall correctness** and **balanced performance across all classes**.  \n",
    "- Tree-based models (Random Forest and Gradient Boosting) outperform linear models (Logistic Regression) for this dataset, highlighting the importance of handling nonlinear feature interactions.  \n",
    "- Hyperparameter tuning significantly improved Gradient Boosting's performance, making it the **most robust choice** for this multiclass diabetes classification problem.\n"
   ]
  }
 ],
 "metadata": {
  "kernelspec": {
   "display_name": "Python 3 (ipykernel)",
   "language": "python",
   "name": "python3"
  },
  "language_info": {
   "codemirror_mode": {
    "name": "ipython",
    "version": 3
   },
   "file_extension": ".py",
   "mimetype": "text/x-python",
   "name": "python",
   "nbconvert_exporter": "python",
   "pygments_lexer": "ipython3",
   "version": "3.12.8"
  }
 },
 "nbformat": 4,
 "nbformat_minor": 5
}
