{
 "cells": [
  {
   "cell_type": "markdown",
   "id": "9605f7db-c8c2-4da5-a08d-58c4e49bd884",
   "metadata": {},
   "source": [
    "# 1️⃣ User Input & Prediction\n",
    "\n",
    "This section allows **real-time predictions** for new patient data using the trained Gradient Boosting model.  \n",
    "\n",
    "- Prompts the user to enter **clinical features**: HbA1c, BMI, Age, Urea, Cholesterol, VLDL, Triglycerides, Creatinine, LDL.  \n",
    "- Inputs are validated against **recommended medical ranges** for accurate predictions.  \n",
    "- Model predicts the **diabetes class** (Non-diabetic, Pre-diabetic, Diabetic).  \n",
    "- Class is mapped to a **descriptive health message**.\n"
   ]
  },
  {
   "cell_type": "code",
   "execution_count": null,
   "id": "0b264ad8-5834-4177-acc5-d55df041aa8e",
   "metadata": {},
   "outputs": [
    {
     "name": "stdout",
     "output_type": "stream",
     "text": [
      "Enter patient details to predict diabetes class:\n",
      "Please follow the recommended ranges for accurate prediction.\n"
     ]
    }
   ],
   "source": [
    "# ----------------------------\n",
    "# 1. Load trained Gradient Boosting model\n",
    "# ----------------------------\n",
    "import joblib\n",
    "import pandas as pd\n",
    "\n",
    "model = joblib.load('gb_diabetes_model.joblib')\n",
    "\n",
    "print(\"Enter patient details to predict diabetes class:\")\n",
    "print(\"Please follow the recommended ranges for accurate prediction.\")\n",
    "\n",
    "# ----------------------------\n",
    "# 2. User Input\n",
    "# ----------------------------\n",
    "hba1c = float(input(\"HbA1c (%) [Normal: 4.5-5.6, Pre-diabetic: 5.7-6.4, Diabetic: >6.5]: \"))\n",
    "bmi = float(input(\"BMI (kg/m^2) [Normal: 18.5-24.9, Overweight: 25-29.9, Obese: 30+]: \"))\n",
    "age = int(input(\"AGE (years) [Recommended: 20-80]: \"))\n",
    "urea = float(input(\"Urea (mg/dL) [Normal: 7-20]: \"))\n",
    "chol = float(input(\"Total Cholesterol (mg/dL) [Normal: <200]: \"))\n",
    "vldl = float(input(\"VLDL (mg/dL) [Normal: 2-30]: \"))\n",
    "tg = float(input(\"Triglycerides (mg/dL) [Normal: <150]: \"))\n",
    "cr = float(input(\"Creatinine (mg/dL) [Normal: 0.6-1.3]: \"))\n",
    "ldl = float(input(\"LDL (mg/dL) [Normal: <100]: \"))\n",
    "\n",
    "# ----------------------------\n",
    "# 3. Prepare DataFrame for Prediction\n",
    "# ----------------------------\n",
    "new_data = pd.DataFrame([{\n",
    "    'HbA1c': hba1c,\n",
    "    'BMI': bmi,\n",
    "    'AGE': age,\n",
    "    'Urea': urea,\n",
    "    'Chol': chol,\n",
    "    'VLDL': vldl,\n",
    "    'TG': tg,\n",
    "    'Cr': cr,\n",
    "    'LDL': ldl\n",
    "}])\n",
    "\n",
    "# ----------------------------\n",
    "# 4. Make Prediction\n",
    "# ----------------------------\n",
    "predicted_class = model.predict(new_data)[0]\n",
    "\n",
    "# ----------------------------\n",
    "# 5. Map Numeric Class to Descriptive Label\n",
    "# ----------------------------\n",
    "class_mapping = {\n",
    "    0: \"Non-diabetic ✅ Healthy blood sugar levels\",\n",
    "    1: \"Pre-diabetic ⚠️ At risk: monitor diet and lifestyle\",\n",
    "    2: \"Diabetic ❌ High risk: consult a doctor immediately\"\n",
    "}\n",
    "\n",
    "print(\"\\nPredicted Class:\", class_mapping[predicted_class])"
   ]
  },
  {
   "cell_type": "markdown",
   "id": "0d9448a0-4ec5-40a1-baa3-62c66f0b9c9d",
   "metadata": {},
   "source": [
    "#  Key Insights\n",
    "\n",
    "- **Non-diabetic** → healthy blood sugar levels.  \n",
    "- **Pre-diabetic** → at risk, requires lifestyle and diet monitoring.  \n",
    "- **Diabetic** → high risk, consult a doctor immediately.  \n",
    "\n",
    "This module demonstrates the practical application of the **Gradient Boosting model** for personalized diabetes risk assessment."
   ]
  }
 ],
 "metadata": {
  "kernelspec": {
   "display_name": "Python 3 (ipykernel)",
   "language": "python",
   "name": "python3"
  },
  "language_info": {
   "codemirror_mode": {
    "name": "ipython",
    "version": 3
   },
   "file_extension": ".py",
   "mimetype": "text/x-python",
   "name": "python",
   "nbconvert_exporter": "python",
   "pygments_lexer": "ipython3",
   "version": "3.12.8"
  }
 },
 "nbformat": 4,
 "nbformat_minor": 5
}
