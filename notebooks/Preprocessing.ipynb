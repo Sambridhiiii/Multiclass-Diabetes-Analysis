{
 "cells": [
  {
   "cell_type": "markdown",
   "id": "afbeab78-87ff-45ea-bdba-184a6874bcde",
   "metadata": {},
   "source": [
    "# 🧩 Data Preprocessing & Preparation\n",
    "\n",
    "## 1️⃣ Load the Dataset\n",
    "\n",
    "The dataset is loaded using `pandas`. Features (`X`) are separated from the target variable (`y`), which represents the diabetes class.\n",
    "\n",
    "- `Class` contains three categories:  \n",
    "  0 → Non-diabetic  \n",
    "  1 → Pre-diabetic  \n",
    "  2 → Diabetic"
   ]
  },
  {
   "cell_type": "code",
   "execution_count": 1,
   "id": "757cb2d9-aae5-4f6d-a10a-f8bbbb96fec6",
   "metadata": {},
   "outputs": [],
   "source": [
    "import pandas as pd\n",
    "\n",
    "df = pd.read_csv(\"Multiclass Diabetes Dataset.csv\")\n",
    "X = df.drop(\"Class\", axis=1)\n",
    "y = df[\"Class\"]\n"
   ]
  },
  {
   "cell_type": "markdown",
   "id": "5a3386ce-8da5-4328-b321-f117a3ef0f70",
   "metadata": {},
   "source": [
    "## 2️⃣ Train-Test Split\n",
    "\n",
    "Data is split into **training (80%)** and **testing (20%)** sets.\n",
    "\n",
    "- `stratify=y` preserves the class distribution in both sets.  \n",
    "- `random_state=42` ensures reproducibility.\n"
   ]
  },
  {
   "cell_type": "code",
   "execution_count": 2,
   "id": "857d0b32-149e-4dea-b445-44b57af5de12",
   "metadata": {},
   "outputs": [],
   "source": [
    "from sklearn.model_selection import train_test_split\n",
    "\n",
    "X_train, X_test, y_train, y_test = train_test_split(\n",
    "    X, y, test_size=0.2, stratify=y, random_state=42\n",
    ")\n"
   ]
  },
  {
   "cell_type": "markdown",
   "id": "0c455e5b-d0ce-4d83-9d13-b22f018c87f9",
   "metadata": {},
   "source": [
    "## 3️⃣ Feature Scaling\n",
    "\n",
    "**StandardScaler** is used to normalize features:\n",
    "\n",
    "- Mean = 0, Standard Deviation = 1  \n",
    "- Scaling improves performance for many ML models  \n",
    "- The scaler is fitted only on training data to avoid data leakage\n"
   ]
  },
  {
   "cell_type": "code",
   "execution_count": 4,
   "id": "4a43c9fa-391d-4cb0-ba51-5b6542b2f8f3",
   "metadata": {},
   "outputs": [],
   "source": [
    "from sklearn.preprocessing import StandardScaler\n",
    "\n",
    "scaler = StandardScaler()\n",
    "X_train_scaled = scaler.fit_transform(X_train)\n",
    "X_test_scaled = scaler.transform(X_test)"
   ]
  },
  {
   "cell_type": "markdown",
   "id": "7fd625d7-971e-4891-9d94-c489f1d46201",
   "metadata": {},
   "source": [
    "## 4️⃣ Handling Class Imbalance with SMOTE\n",
    "\n",
    "**SMOTE (Synthetic Minority Over-sampling Technique)** generates synthetic samples for minority classes to balance the dataset.\n",
    "\n",
    "- Applied only to the training set\n",
    "- Prevents models from being biased toward the majority class"
   ]
  },
  {
   "cell_type": "code",
   "execution_count": 5,
   "id": "a52e563f-edc9-4a28-9717-d343a8e21099",
   "metadata": {},
   "outputs": [],
   "source": [
    "from imblearn.over_sampling import SMOTE\n",
    "\n",
    "smote = SMOTE(random_state=42)\n",
    "X_train_res, y_train_res = smote.fit_resample(X_train_scaled, y_train)\n"
   ]
  },
  {
   "cell_type": "markdown",
   "id": "378f97d7-a22e-4088-8bba-c9c33de0fb64",
   "metadata": {},
   "source": [
    "## 5️⃣ Save Preprocessed Data\n",
    "\n",
    "Preprocessed data is saved as **Joblib files** for easy loading during model training and evaluation.\n",
    "\n",
    "- Allows modular workflow: preprocessing and modeling are separate"
   ]
  },
  {
   "cell_type": "code",
   "execution_count": 6,
   "id": "b4e32dcb-5e93-46b9-86b8-c193b5417ce2",
   "metadata": {},
   "outputs": [
    {
     "name": "stdout",
     "output_type": "stream",
     "text": [
      "Preprocessed data saved as joblib files!\n"
     ]
    }
   ],
   "source": [
    "import joblib\n",
    "\n",
    "joblib.dump(X_train_res, \"X_train_res.joblib\")\n",
    "joblib.dump(X_test_scaled, \"X_test_scaled.joblib\")\n",
    "joblib.dump(y_train_res, \"y_train_res.joblib\")\n",
    "joblib.dump(y_test, \"y_test.joblib\")\n",
    "\n",
    "print(\"Preprocessed data saved as joblib files!\")"
   ]
  },
  {
   "cell_type": "markdown",
   "id": "2f7cf6bb-b429-4772-bdfb-3351e3ffda59",
   "metadata": {},
   "source": [
    "## ✅ Key Insights\n",
    "\n",
    "- Proper **train-test split** ensures unbiased evaluation  \n",
    "- **Scaling** improves model convergence and accuracy  \n",
    "- **SMOTE** fixes class imbalance, critical for multi-class prediction  \n",
    "- **Joblib serialization** enables reusing preprocessed data without repeating steps"
   ]
  }
 ],
 "metadata": {
  "kernelspec": {
   "display_name": "Python 3 (ipykernel)",
   "language": "python",
   "name": "python3"
  },
  "language_info": {
   "codemirror_mode": {
    "name": "ipython",
    "version": 3
   },
   "file_extension": ".py",
   "mimetype": "text/x-python",
   "name": "python",
   "nbconvert_exporter": "python",
   "pygments_lexer": "ipython3",
   "version": "3.12.8"
  }
 },
 "nbformat": 4,
 "nbformat_minor": 5
}
