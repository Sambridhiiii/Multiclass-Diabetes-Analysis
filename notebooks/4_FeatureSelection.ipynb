{
 "cells": [
  {
   "cell_type": "markdown",
   "id": "7d709c6b-1dfe-4acf-a3e3-1aee936ac2fe",
   "metadata": {},
   "source": [
    "# 🔧 Feature Selection\n",
    "\n",
    "After preprocessing, feature selection is performed to retain the **most relevant features** for predicting diabetes class.  \n",
    "This helps **reduce dimensionality, improve model performance**, and focus on clinically significant indicators.\n",
    "\n",
    "---\n",
    "\n",
    "## 1️⃣ Run Preprocessing Notebook\n",
    "\n",
    "All preprocessed variables (`X_train_res`, `X_test_scaled`, `y_train_res`, `y_test`, `scaler`) are available by running the preprocessing notebook."
   ]
  },
  {
   "cell_type": "code",
   "execution_count": 1,
   "id": "63d9e64f-f21b-439e-9dc8-c74367b995bd",
   "metadata": {},
   "outputs": [
    {
     "name": "stdout",
     "output_type": "stream",
     "text": [
      "Preprocessed data saved as joblib files!\n"
     ]
    }
   ],
   "source": [
    "# Run the preprocessing notebook\n",
    "%run ./Preprocessing.ipynb"
   ]
  },
  {
   "cell_type": "markdown",
   "id": "178e497f-5923-4bc3-a17b-924d7ba885b0",
   "metadata": {},
   "source": [
    "## 2️⃣ Convert NumPy Arrays to DataFrames\n",
    "\n",
    "Converting arrays to **pandas DataFrames** allows easier manipulation, feature selection, and visualization.\n"
   ]
  },
  {
   "cell_type": "code",
   "execution_count": 2,
   "id": "37c78fa2-c32c-4fe0-aeaf-732b03e1bde4",
   "metadata": {},
   "outputs": [],
   "source": [
    "import pandas as pd\n",
    "\n",
    "X_train_res_df = pd.DataFrame(X_train_res, columns=X.columns)\n",
    "X_test_scaled_df = pd.DataFrame(X_test_scaled, columns=X.columns)"
   ]
  },
  {
   "cell_type": "markdown",
   "id": "f0f72104-e207-4b96-baf9-bc17abb4a4b1",
   "metadata": {},
   "source": [
    "## 3️⃣ Select Relevant Features\n",
    "\n",
    "Top features are selected based on **domain knowledge, statistical tests, and correlation analysis**:\n",
    "\n",
    "- `HbA1c` → Blood sugar level over 3 months  \n",
    "- `BMI` → Body Mass Index  \n",
    "- `AGE` → Patient age  \n",
    "- `Urea, Cr` → Kidney function markers  \n",
    "- `Chol, LDL, VLDL, TG` → Lipid profile  \n",
    "\n",
    "The selected features are used for model training to improve **accuracy and interpretability**."
   ]
  },
  {
   "cell_type": "code",
   "execution_count": 3,
   "id": "8b3d5141-1054-4426-b3ae-99f79e0a76cf",
   "metadata": {},
   "outputs": [],
   "source": [
    "selected_features = ['HbA1c','BMI','AGE','Urea','Chol','VLDL','TG','Cr','LDL']\n",
    "\n",
    "X_train_fs = X_train_res_df[selected_features]\n",
    "X_test_fs = X_test_scaled_df[selected_features]"
   ]
  },
  {
   "cell_type": "markdown",
   "id": "8789222d-0b89-46f8-802c-b127a0267a38",
   "metadata": {},
   "source": [
    "## 4️⃣ Inspect Selected Features\n",
    "\n",
    "Checking the first few rows ensures the selection was successful.\n"
   ]
  },
  {
   "cell_type": "code",
   "execution_count": 4,
   "id": "688a673e-dadf-4bb2-a6ee-1fa37fb93f1f",
   "metadata": {},
   "outputs": [
    {
     "data": {
      "text/html": [
       "<div>\n",
       "<style scoped>\n",
       "    .dataframe tbody tr th:only-of-type {\n",
       "        vertical-align: middle;\n",
       "    }\n",
       "\n",
       "    .dataframe tbody tr th {\n",
       "        vertical-align: top;\n",
       "    }\n",
       "\n",
       "    .dataframe thead th {\n",
       "        text-align: right;\n",
       "    }\n",
       "</style>\n",
       "<table border=\"1\" class=\"dataframe\">\n",
       "  <thead>\n",
       "    <tr style=\"text-align: right;\">\n",
       "      <th></th>\n",
       "      <th>HbA1c</th>\n",
       "      <th>BMI</th>\n",
       "      <th>AGE</th>\n",
       "      <th>Urea</th>\n",
       "      <th>Chol</th>\n",
       "      <th>VLDL</th>\n",
       "      <th>TG</th>\n",
       "      <th>Cr</th>\n",
       "      <th>LDL</th>\n",
       "    </tr>\n",
       "  </thead>\n",
       "  <tbody>\n",
       "    <tr>\n",
       "      <th>0</th>\n",
       "      <td>-0.432651</td>\n",
       "      <td>-0.306180</td>\n",
       "      <td>-1.624315</td>\n",
       "      <td>-0.212720</td>\n",
       "      <td>0.208963</td>\n",
       "      <td>-0.312617</td>\n",
       "      <td>-0.806310</td>\n",
       "      <td>-0.213544</td>\n",
       "      <td>0.094720</td>\n",
       "    </tr>\n",
       "    <tr>\n",
       "      <th>1</th>\n",
       "      <td>-1.165377</td>\n",
       "      <td>-0.905307</td>\n",
       "      <td>-0.429091</td>\n",
       "      <td>-0.422238</td>\n",
       "      <td>-0.192012</td>\n",
       "      <td>-0.341727</td>\n",
       "      <td>-0.965386</td>\n",
       "      <td>-0.281358</td>\n",
       "      <td>1.658419</td>\n",
       "    </tr>\n",
       "    <tr>\n",
       "      <th>2</th>\n",
       "      <td>-0.595479</td>\n",
       "      <td>-0.705598</td>\n",
       "      <td>0.965337</td>\n",
       "      <td>-0.107961</td>\n",
       "      <td>0.289158</td>\n",
       "      <td>-0.283508</td>\n",
       "      <td>-0.726772</td>\n",
       "      <td>-0.465426</td>\n",
       "      <td>0.876570</td>\n",
       "    </tr>\n",
       "    <tr>\n",
       "      <th>3</th>\n",
       "      <td>-1.043256</td>\n",
       "      <td>-0.505889</td>\n",
       "      <td>-0.229887</td>\n",
       "      <td>-0.265100</td>\n",
       "      <td>0.048573</td>\n",
       "      <td>0.735327</td>\n",
       "      <td>-1.044923</td>\n",
       "      <td>-0.300734</td>\n",
       "      <td>1.658419</td>\n",
       "    </tr>\n",
       "    <tr>\n",
       "      <th>4</th>\n",
       "      <td>-0.391944</td>\n",
       "      <td>-0.306180</td>\n",
       "      <td>0.068919</td>\n",
       "      <td>-0.212720</td>\n",
       "      <td>0.609938</td>\n",
       "      <td>-0.283508</td>\n",
       "      <td>-0.647234</td>\n",
       "      <td>-0.232920</td>\n",
       "      <td>1.169763</td>\n",
       "    </tr>\n",
       "  </tbody>\n",
       "</table>\n",
       "</div>"
      ],
      "text/plain": [
       "      HbA1c       BMI       AGE      Urea      Chol      VLDL        TG  \\\n",
       "0 -0.432651 -0.306180 -1.624315 -0.212720  0.208963 -0.312617 -0.806310   \n",
       "1 -1.165377 -0.905307 -0.429091 -0.422238 -0.192012 -0.341727 -0.965386   \n",
       "2 -0.595479 -0.705598  0.965337 -0.107961  0.289158 -0.283508 -0.726772   \n",
       "3 -1.043256 -0.505889 -0.229887 -0.265100  0.048573  0.735327 -1.044923   \n",
       "4 -0.391944 -0.306180  0.068919 -0.212720  0.609938 -0.283508 -0.647234   \n",
       "\n",
       "         Cr       LDL  \n",
       "0 -0.213544  0.094720  \n",
       "1 -0.281358  1.658419  \n",
       "2 -0.465426  0.876570  \n",
       "3 -0.300734  1.658419  \n",
       "4 -0.232920  1.169763  "
      ]
     },
     "execution_count": 4,
     "metadata": {},
     "output_type": "execute_result"
    }
   ],
   "source": [
    "X_train_fs.head()"
   ]
  },
  {
   "cell_type": "markdown",
   "id": "cb1f446a-25f0-4d19-8905-cb22e9a560c6",
   "metadata": {},
   "source": [
    "## ✅ Key Insights\n",
    "\n",
    "- Selected features represent **key clinical indicators** for diabetes prediction.  \n",
    "- Reduces noise from irrelevant features.  \n",
    "- Prepares data for **efficient and accurate model training**."
   ]
  }
 ],
 "metadata": {
  "kernelspec": {
   "display_name": "Python 3 (ipykernel)",
   "language": "python",
   "name": "python3"
  },
  "language_info": {
   "codemirror_mode": {
    "name": "ipython",
    "version": 3
   },
   "file_extension": ".py",
   "mimetype": "text/x-python",
   "name": "python",
   "nbconvert_exporter": "python",
   "pygments_lexer": "ipython3",
   "version": "3.12.8"
  }
 },
 "nbformat": 4,
 "nbformat_minor": 5
}
